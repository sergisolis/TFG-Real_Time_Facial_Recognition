{
 "cells": [
  {
   "cell_type": "code",
   "execution_count": 6,
   "metadata": {},
   "outputs": [],
   "source": [
    "import os\n",
    "import glob\n",
    "import cv2\n",
    "import matplotlib.pyplot as plt\n",
    "from tensorflow.keras.models import load_model\n",
    "import tensorflow as tf\n",
    "import numpy as np\n",
    "import io\n",
    "from keras.models import load_model\n",
    "from tensorflow.keras.applications.resnet50 import preprocess_input as preprocess_resnet50\n",
    "from tensorflow.keras.applications.inception_resnet_v2 import preprocess_input as preprocess_inception_resnet_v2\n",
    "from tensorflow.keras.applications.inception_v3 import preprocess_input as preprocess_inception_v3\n",
    "from tensorflow.keras.applications.mobilenet_v2 import preprocess_input as preprocess_mobilenet_v2\n",
    "from tensorflow.keras.applications.vgg16 import preprocess_input as preprocess_vgg16\n",
    "from tensorflow.keras.applications.vgg19 import preprocess_input as preprocess_vgg19\n",
    "from tensorflow.keras.applications.mobilenet_v3 import preprocess_input as preprocess_mobilenet_v3\n",
    "from tensorflow.keras.applications.efficientnet import preprocess_input as preprocess_efficientnet\n",
    "\n",
    "import matplotlib.pyplot as plt\n",
    "\n",
    "import mediapipe as mp"
   ]
  },
  {
   "cell_type": "code",
   "execution_count": 2,
   "metadata": {},
   "outputs": [],
   "source": [
    "def get_preprocess_function(base_model_type):\n",
    "    if base_model_type == 'ResNet50':\n",
    "        return preprocess_resnet50\n",
    "    elif base_model_type == 'InceptionResNetV2':\n",
    "        return preprocess_inception_resnet_v2\n",
    "    elif base_model_type == 'InceptionV3':\n",
    "        return preprocess_inception_v3\n",
    "    elif base_model_type == 'MobileNetV2':\n",
    "        return preprocess_mobilenet_v2\n",
    "    elif base_model_type == 'MobileNetV3':\n",
    "        return preprocess_mobilenet_v3\n",
    "    elif base_model_type == 'VGG16':\n",
    "        return preprocess_vgg16\n",
    "    elif base_model_type == 'VGG19':\n",
    "        return preprocess_vgg19\n",
    "    elif base_model_type == 'ResNet50V2':\n",
    "        return preprocess_inception_resnet_v2\n",
    "    elif base_model_type == 'EfficientNet':\n",
    "        return preprocess_efficientnet\n",
    "    else:\n",
    "        raise ValueError(\n",
    "            'Invalid base_model_type.')"
   ]
  },
  {
   "cell_type": "code",
   "execution_count": 3,
   "metadata": {},
   "outputs": [],
   "source": [
    "def preprocess(file, input_shape):\n",
    "    face = cv2.imread(file)\n",
    "    face = cv2.cvtColor(face, cv2.COLOR_BGR2RGB)\n",
    "    face = cv2.resize(face, input_shape)\n",
    "    face = np.expand_dims(face, axis=0)\n",
    "    return face"
   ]
  },
  {
   "cell_type": "code",
   "execution_count": 7,
   "metadata": {},
   "outputs": [],
   "source": [
    "def import_embeddings(model, input_shape, preprocess_input, path):\n",
    "    # Load embeddings set\n",
    "    dir = path\n",
    "    embeddings = []\n",
    "    labels = []\n",
    "    for subdir in os.listdir(dir):\n",
    "        for file in glob.glob(os.path.join(dir, subdir, '*.jpg')):\n",
    "            face = preprocess(file, input_shape)\n",
    "            # Preprocess image same as training data\n",
    "            face = preprocess_input(face)\n",
    "\n",
    "            embedding = model.predict(face, verbose=0)\n",
    "            embeddings.append(embedding.flatten())\n",
    "            labels.append(subdir)\n",
    "\n",
    "    return embeddings, labels"
   ]
  },
  {
   "attachments": {},
   "cell_type": "markdown",
   "metadata": {},
   "source": [
    "## RESNET50"
   ]
  },
  {
   "cell_type": "code",
   "execution_count": 11,
   "metadata": {},
   "outputs": [
    {
     "name": "stdout",
     "output_type": "stream",
     "text": [
      "WARNING:tensorflow:No training configuration found in save file, so the model was *not* compiled. Compile it manually.\n"
     ]
    }
   ],
   "source": [
    "BASE_MODEL_TYPE = 'ResNet50'\n",
    "\n",
    "model = load_model(\"triplet_loss_trained_models/\" + \"ResNet50\" )\n",
    "optimizer = tf.keras.optimizers.Adam(learning_rate=1e-3, epsilon=1e-01)\n",
    "model.compile(optimizer=optimizer)\n",
    "preprocess_input = get_preprocess_function(BASE_MODEL_TYPE)\n",
    "\n",
    "\n",
    "data_embeddings, data_labels = import_embeddings(model, (224,224), preprocess_input, './data')\n",
    "\n",
    "np.savetxt(\"./embedding_representation/data/vecs-data-\"+ BASE_MODEL_TYPE +\".tsv\", data_embeddings, delimiter='\\t')\n",
    "\n",
    "with io.open(\"./embedding_representation/data/meta-data-\"+ BASE_MODEL_TYPE +\".tsv\", 'w', encoding='utf-8') as out_m:\n",
    "    for label in data_labels:\n",
    "        out_m.write(str(label) + \"\\n\")\n",
    "\n",
    "test_embeddings, test_labels = import_embeddings(model, (224,224), preprocess_input, './ref_data/test')\n",
    "\n",
    "np.savetxt(\"./embedding_representation/test/vecs-test-\"+ BASE_MODEL_TYPE +\".tsv\", test_embeddings, delimiter='\\t')\n",
    "\n",
    "with io.open(\"./embedding_representation/test/meta-test-\"+ BASE_MODEL_TYPE +\".tsv\", 'w', encoding='utf-8') as out_m:\n",
    "    for label in test_labels:\n",
    "        out_m.write(str(label) + \"\\n\")"
   ]
  },
  {
   "cell_type": "code",
   "execution_count": 13,
   "metadata": {},
   "outputs": [
    {
     "name": "stdout",
     "output_type": "stream",
     "text": [
      "WARNING:tensorflow:No training configuration found in save file, so the model was *not* compiled. Compile it manually.\n"
     ]
    }
   ],
   "source": [
    "BASE_MODEL_TYPE = 'InceptionV3'\n",
    "\n",
    "model = load_model(\"triplet_loss_trained_models/\" + \"InceptionV3\" )\n",
    "optimizer = tf.keras.optimizers.Adam(learning_rate=1e-3, epsilon=1e-01)\n",
    "model.compile(optimizer=optimizer)\n",
    "preprocess_input = get_preprocess_function(BASE_MODEL_TYPE)\n",
    "\n",
    "\n",
    "data_embeddings, data_labels = import_embeddings(model, (224,224), preprocess_input, './data')\n",
    "\n",
    "np.savetxt(\"./embedding_representation/data/vecs-data-\"+ BASE_MODEL_TYPE +\".tsv\", data_embeddings, delimiter='\\t')\n",
    "\n",
    "with io.open(\"./embedding_representation/data/meta-data-\"+ BASE_MODEL_TYPE +\".tsv\", 'w', encoding='utf-8') as out_m:\n",
    "    for label in data_labels:\n",
    "        out_m.write(str(label) + \"\\n\")\n",
    "\n",
    "test_embeddings, test_labels = import_embeddings(model, (224,224), preprocess_input, './ref_data/test')\n",
    "\n",
    "np.savetxt(\"./embedding_representation/test/vecs-test-\"+ BASE_MODEL_TYPE +\".tsv\", test_embeddings, delimiter='\\t')\n",
    "\n",
    "with io.open(\"./embedding_representation/test/meta-test-\"+ BASE_MODEL_TYPE +\".tsv\", 'w', encoding='utf-8') as out_m:\n",
    "    for label in test_labels:\n",
    "        out_m.write(str(label) + \"\\n\")"
   ]
  },
  {
   "cell_type": "code",
   "execution_count": 14,
   "metadata": {},
   "outputs": [
    {
     "name": "stdout",
     "output_type": "stream",
     "text": [
      "WARNING:tensorflow:No training configuration found in save file, so the model was *not* compiled. Compile it manually.\n"
     ]
    }
   ],
   "source": [
    "BASE_MODEL_TYPE = 'MobileNetV3'\n",
    "\n",
    "model = load_model(\"triplet_loss_trained_models/\" + \"MobileNetV3\" )\n",
    "optimizer = tf.keras.optimizers.Adam(learning_rate=1e-3, epsilon=1e-01)\n",
    "model.compile(optimizer=optimizer)\n",
    "preprocess_input = get_preprocess_function(BASE_MODEL_TYPE)\n",
    "\n",
    "\n",
    "data_embeddings, data_labels = import_embeddings(model, (224,224), preprocess_input, './data')\n",
    "\n",
    "np.savetxt(\"./embedding_representation/data/vecs-data-\"+ BASE_MODEL_TYPE +\".tsv\", data_embeddings, delimiter='\\t')\n",
    "\n",
    "with io.open(\"./embedding_representation/data/meta-data-\"+ BASE_MODEL_TYPE +\".tsv\", 'w', encoding='utf-8') as out_m:\n",
    "    for label in data_labels:\n",
    "        out_m.write(str(label) + \"\\n\")\n",
    "\n",
    "test_embeddings, test_labels = import_embeddings(model, (224,224), preprocess_input, './ref_data/test')\n",
    "\n",
    "np.savetxt(\"./embedding_representation/test/vecs-test-\"+ BASE_MODEL_TYPE +\".tsv\", test_embeddings, delimiter='\\t')\n",
    "\n",
    "with io.open(\"./embedding_representation/test/meta-test-\"+ BASE_MODEL_TYPE +\".tsv\", 'w', encoding='utf-8') as out_m:\n",
    "    for label in test_labels:\n",
    "        out_m.write(str(label) + \"\\n\")"
   ]
  },
  {
   "cell_type": "code",
   "execution_count": 15,
   "metadata": {},
   "outputs": [
    {
     "name": "stdout",
     "output_type": "stream",
     "text": [
      "WARNING:tensorflow:No training configuration found in save file, so the model was *not* compiled. Compile it manually.\n"
     ]
    }
   ],
   "source": [
    "BASE_MODEL_TYPE = 'EfficientNet'\n",
    "\n",
    "model = load_model(\"triplet_loss_trained_models/\" + \"EfficientNet\")\n",
    "optimizer = tf.keras.optimizers.Adam(learning_rate=1e-3, epsilon=1e-01)\n",
    "model.compile(optimizer=optimizer)\n",
    "preprocess_input = get_preprocess_function(BASE_MODEL_TYPE)\n",
    "\n",
    "\n",
    "data_embeddings, data_labels = import_embeddings(model, (224,224), preprocess_input, './data')\n",
    "\n",
    "np.savetxt(\"./embedding_representation/data/vecs-data-\"+ BASE_MODEL_TYPE +\".tsv\", data_embeddings, delimiter='\\t')\n",
    "\n",
    "with io.open(\"./embedding_representation/data/meta-data-\"+ BASE_MODEL_TYPE +\".tsv\", 'w', encoding='utf-8') as out_m:\n",
    "    for label in data_labels:\n",
    "        out_m.write(str(label) + \"\\n\")\n",
    "\n",
    "test_embeddings, test_labels = import_embeddings(model, (224,224), preprocess_input, './ref_data/test')\n",
    "\n",
    "np.savetxt(\"./embedding_representation/test/vecs-test-\"+ BASE_MODEL_TYPE +\".tsv\", test_embeddings, delimiter='\\t')\n",
    "\n",
    "with io.open(\"./embedding_representation/test/meta-test-\"+ BASE_MODEL_TYPE +\".tsv\", 'w', encoding='utf-8') as out_m:\n",
    "    for label in test_labels:\n",
    "        out_m.write(str(label) + \"\\n\")"
   ]
  }
 ],
 "metadata": {
  "kernelspec": {
   "display_name": "final",
   "language": "python",
   "name": "python3"
  },
  "language_info": {
   "codemirror_mode": {
    "name": "ipython",
    "version": 3
   },
   "file_extension": ".py",
   "mimetype": "text/x-python",
   "name": "python",
   "nbconvert_exporter": "python",
   "pygments_lexer": "ipython3",
   "version": "3.7.2"
  },
  "orig_nbformat": 4
 },
 "nbformat": 4,
 "nbformat_minor": 2
}
